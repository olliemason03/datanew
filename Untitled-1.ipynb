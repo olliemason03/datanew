{
 "cells": [
  {
   "cell_type": "code",
   "execution_count": 72,
   "metadata": {},
   "outputs": [],
   "source": [
    "#importing modulues \n",
    "\n",
    "import seaborn as sns \n",
    "import pandas as pd\n",
    "import matplotlib.pyplot as plt\n",
    "%matplotlib inline\n",
    "import numpy as np\n",
    "import pygal as pyg\n",
    "import pygal_maps_world.maps\n",
    "import plotly.express as px\n",
    "import json\n",
    "import plotly.express.colors\n",
    "import statistics\n",
    "import chart_studio.plotly as py\n",
    "import plotly.tools as tls\n",
    "import plotly.graph_objs as go\n",
    "from scipy import stats\n",
    "from sklearn import linear_model\n",
    "import plotly.graph_objects as go\n",
    "\n"
   ]
  },
  {
   "cell_type": "code",
   "execution_count": 73,
   "metadata": {},
   "outputs": [],
   "source": [
    "import warnings; warnings.simplefilter('ignore')"
   ]
  },
  {
   "cell_type": "code",
   "execution_count": 74,
   "metadata": {},
   "outputs": [],
   "source": [
    "wd2015 = pd.read_csv('disaster2.csv')\n",
    "\n",
    "#importing 2015 data\n",
    "#accessed 12/10/2022 Inform Risk Index 2015\n"
   ]
  },
  {
   "cell_type": "code",
   "execution_count": 75,
   "metadata": {},
   "outputs": [],
   "source": [
    "wd2023 = pd.read_csv('disaster.csv')\n",
    "\n",
    "#importing 2023 data\n",
    "#accessed 22/11/2022 INFORM Risk Index 2023\n",
    "\n"
   ]
  },
  {
   "cell_type": "code",
   "execution_count": 76,
   "metadata": {},
   "outputs": [
    {
     "data": {
      "text/plain": [
       "COUNTRY                                       object\n",
       "ISO3                                          object\n",
       "Earthquake                                   float64\n",
       "Flood                                        float64\n",
       "Tsunami                                      float64\n",
       "Tropical Cyclone                             float64\n",
       "Drought                                      float64\n",
       "Natural                                      float64\n",
       "Projected Conflict Risk                      float64\n",
       "Current Highly Violent Conflict Intensity      int64\n",
       "Human                                        float64\n",
       "HAZARD & EXPOSURE                            float64\n",
       "Development & Deprivation                    float64\n",
       "Inequality                                    object\n",
       "Aid Dependency                               float64\n",
       "Socio-Economic Vulnerability                 float64\n",
       "Uprooted people                              float64\n",
       "Health Conditions                             object\n",
       "Recent Shocks                                float64\n",
       "Food Security                                float64\n",
       "Other Vulnerable Groups                      float64\n",
       "Vulnerable Groups                            float64\n",
       "VULNERABILITY                                float64\n",
       "DRR                                           object\n",
       "Governance                                   float64\n",
       "Institutional                                float64\n",
       "Communication                                 object\n",
       "Physical infrastructure                      float64\n",
       "Access to health care                          int64\n",
       "Infrastructure                               float64\n",
       "LACK OF COPING CAPACITY                      float64\n",
       "Overall RISK                                 float64\n",
       "Rank                                           int64\n",
       "Life Expectancy                              float64\n",
       "dtype: object"
      ]
     },
     "execution_count": 76,
     "metadata": {},
     "output_type": "execute_result"
    }
   ],
   "source": [
    "wd2015.dtypes"
   ]
  },
  {
   "cell_type": "code",
   "execution_count": 77,
   "metadata": {},
   "outputs": [
    {
     "data": {
      "application/vnd.plotly.v1+json": {
       "config": {
        "plotlyServerURL": "https://plot.ly"
       },
       "data": [
        {
         "coloraxis": "coloraxis",
         "customdata": [
          [
           2,
           0.2
          ],
          [
           1,
           0.2
          ],
          [
           4,
           0.3
          ],
          [
           1,
           0.3
          ],
          [
           0,
           0.4
          ],
          [
           2,
           0.5
          ],
          [
           1,
           0.5
          ],
          [
           6,
           0.6
          ],
          [
           4,
           0.6
          ],
          [
           4,
           0.7
          ],
          [
           2,
           0.7
          ],
          [
           1,
           0.7
          ],
          [
           3,
           0.8
          ],
          [
           0,
           0.8
          ],
          [
           2,
           0.8
          ],
          [
           1,
           0.8
          ],
          [
           0,
           0.8
          ],
          [
           9,
           0.9
          ],
          [
           5,
           1
          ],
          [
           2,
           1
          ],
          [
           3,
           1
          ],
          [
           1,
           1
          ],
          [
           1,
           1
          ],
          [
           5,
           1.1
          ],
          [
           5,
           1.1
          ],
          [
           6,
           1.1
          ],
          [
           4,
           1.1
          ],
          [
           2,
           1.1
          ],
          [
           0,
           1.1
          ],
          [
           5,
           1.1
          ],
          [
           4,
           1.1
          ],
          [
           4,
           1.2
          ],
          [
           5,
           1.2
          ],
          [
           4,
           1.2
          ],
          [
           1,
           1.2
          ],
          [
           1,
           1.2
          ],
          [
           1,
           1.2
          ],
          [
           3,
           1.3
          ],
          [
           8,
           1.3
          ],
          [
           4,
           1.3
          ],
          [
           0,
           1.3
          ],
          [
           5,
           1.3
          ],
          [
           3,
           1.3
          ],
          [
           2,
           1.3
          ],
          [
           5,
           1.4
          ],
          [
           5,
           1.4
          ],
          [
           1,
           1.4
          ],
          [
           2,
           1.5
          ],
          [
           4,
           1.6
          ],
          [
           7,
           1.6
          ],
          [
           3,
           1.6
          ],
          [
           2,
           1.6
          ],
          [
           3,
           1.6
          ],
          [
           4,
           1.6
          ],
          [
           3,
           1.7
          ],
          [
           5,
           1.7
          ],
          [
           9,
           1.7
          ],
          [
           5,
           1.7
          ],
          [
           9,
           1.8
          ],
          [
           2,
           1.8
          ],
          [
           5,
           1.8
          ],
          [
           2,
           1.8
          ],
          [
           3,
           1.8
          ],
          [
           1,
           1.9
          ],
          [
           6,
           1.9
          ],
          [
           7,
           2
          ],
          [
           5,
           2
          ],
          [
           5,
           2
          ],
          [
           5,
           2
          ],
          [
           7,
           2.1
          ],
          [
           3,
           2.1
          ],
          [
           3,
           2.1
          ],
          [
           5,
           2.1
          ],
          [
           8,
           2.1
          ],
          [
           6,
           2.3
          ],
          [
           10,
           2.3
          ],
          [
           7,
           2.3
          ],
          [
           8,
           2.3
          ],
          [
           6,
           2.3
          ],
          [
           8,
           2.3
          ],
          [
           3,
           2.3
          ],
          [
           6,
           2.4
          ],
          [
           7,
           2.4
          ],
          [
           5,
           2.4
          ],
          [
           3,
           2.4
          ],
          [
           8,
           2.5
          ],
          [
           3,
           2.5
          ],
          [
           2,
           2.5
          ],
          [
           5,
           2.6
          ],
          [
           2,
           2.6
          ],
          [
           8,
           2.7
          ],
          [
           4,
           2.7
          ],
          [
           4,
           2.7
          ],
          [
           6,
           2.7
          ],
          [
           5,
           2.7
          ],
          [
           3,
           2.7
          ],
          [
           5,
           2.7
          ],
          [
           6,
           2.8
          ],
          [
           7,
           2.8
          ],
          [
           2,
           2.8
          ],
          [
           5,
           2.8
          ],
          [
           7,
           2.9
          ],
          [
           4,
           2.9
          ],
          [
           7,
           2.9
          ],
          [
           7,
           3
          ],
          [
           4,
           3
          ],
          [
           6,
           3
          ],
          [
           10,
           3.1
          ],
          [
           7,
           3.1
          ],
          [
           10,
           3.2
          ],
          [
           2,
           3.2
          ],
          [
           5,
           3.3
          ],
          [
           7,
           3.3
          ],
          [
           3,
           3.3
          ],
          [
           6,
           3.4
          ],
          [
           9,
           3.4
          ],
          [
           7,
           3.6
          ],
          [
           5,
           3.6
          ],
          [
           5,
           3.6
          ],
          [
           7,
           3.7
          ],
          [
           5,
           3.7
          ],
          [
           4,
           3.7
          ],
          [
           9,
           3.8
          ],
          [
           8,
           3.8
          ],
          [
           10,
           3.8
          ],
          [
           5,
           3.8
          ],
          [
           9,
           3.8
          ],
          [
           10,
           3.9
          ],
          [
           8,
           4
          ],
          [
           10,
           4
          ],
          [
           6,
           4
          ],
          [
           8,
           4
          ],
          [
           5,
           4.1
          ],
          [
           7,
           4.1
          ],
          [
           8,
           4.2
          ],
          [
           10,
           4.2
          ],
          [
           4,
           4.2
          ],
          [
           7,
           4.4
          ],
          [
           5,
           4.5
          ],
          [
           10,
           4.6
          ],
          [
           9,
           4.7
          ],
          [
           8,
           4.7
          ],
          [
           7,
           4.7
          ],
          [
           9,
           4.8
          ],
          [
           10,
           4.8
          ],
          [
           10,
           5
          ],
          [
           10,
           5
          ],
          [
           10,
           5.2
          ],
          [
           6,
           5.2
          ],
          [
           6,
           5.3
          ],
          [
           10,
           5.5
          ],
          [
           10,
           5.7
          ],
          [
           9,
           5.8
          ],
          [
           5,
           5.8
          ],
          [
           7,
           5.9
          ],
          [
           9,
           6
          ],
          [
           10,
           6.1
          ],
          [
           9,
           6.2
          ],
          [
           10,
           6.3
          ],
          [
           10,
           6.3
          ],
          [
           9,
           6.5
          ],
          [
           6,
           6.5
          ],
          [
           9,
           6.6
          ],
          [
           9,
           6.8
          ],
          [
           8,
           6.8
          ],
          [
           9,
           6.9
          ],
          [
           7,
           7
          ],
          [
           10,
           7.1
          ],
          [
           10,
           7.1
          ],
          [
           10,
           7.1
          ],
          [
           8,
           7.4
          ],
          [
           9,
           7.7
          ],
          [
           9,
           7.9
          ],
          [
           9,
           7.9
          ],
          [
           9,
           7.9
          ],
          [
           10,
           8
          ],
          [
           6,
           8
          ],
          [
           10,
           8.5
          ],
          [
           10,
           8.9
          ],
          [
           10,
           8.9
          ],
          [
           3,
           8.9
          ],
          [
           8,
           9.1
          ],
          [
           10,
           9.8
          ],
          [
           10,
           9.9
          ]
         ],
         "geo": "geo",
         "hovertemplate": "<b>%{hovertext}</b><br><br>ISO3=%{location}<br>Access to health care=%{customdata[0]}<br>Food Security=%{customdata[1]}<br>Life Expectancy=%{z}<extra></extra>",
         "hovertext": [
          "United States",
          "Ireland",
          "Montenegro",
          "Belgium",
          "Austria",
          "Israel",
          "France",
          "Algeria",
          "Kuwait",
          "Cuba",
          "Canada",
          "Luxembourg",
          "Kazakhstan",
          "Italy",
          "Portugal",
          "Germany",
          "Switzerland",
          "Kiribati",
          "Libya",
          "United Kingdom",
          "Qatar",
          "Denmark",
          "Norway",
          "Iran",
          "Jordan",
          "Saudi Arabia",
          "Argentina",
          "Greece",
          "Australia",
          "Dominica",
          "Poland",
          "Turkey",
          "Turkmenistan",
          "Romania",
          "Iceland",
          "Netherlands",
          "Finland",
          "Azerbaijan",
          "Samoa",
          "United Arab Emirates",
          "Spain",
          "Oman",
          "Belarus",
          "Lithuania",
          "Brazil",
          "Bahrain",
          "Sweden",
          "Malta",
          "Mexico",
          "Morocco",
          "Ukraine",
          "Czech Republic",
          "Latvia",
          "Singapore",
          "Lebanon",
          "Tunisia",
          "Ghana",
          "Bosnia and Herzegovina",
          "Vanuatu",
          "Russia",
          "Barbados",
          "Slovenia",
          "Estonia",
          "New Zealand",
          "Equatorial Guinea",
          "Fiji",
          "Kyrgyzstan",
          "Uzbekistan",
          "Saint Vincent and the Grenadines",
          "Belize",
          "Croatia",
          "Uruguay",
          "Brunei",
          "São Tomé and Príncipe",
          "Syria",
          "Papua New Guinea",
          "Tonga",
          "Federated States of Micronesia",
          "Palau",
          "Marshall Islands",
          "Slovakia",
          "South Africa",
          "Malaysia",
          "Chile",
          "South Korea",
          "Philippines",
          "Costa Rica",
          "Bahamas",
          "Mauritius",
          "Hungary",
          "Mali",
          "Egypt",
          "Serbia",
          "Albania",
          "Trinidad and Tobago",
          "Bulgaria",
          "Maldives",
          "Jamaica",
          "Cape Verde",
          "Cyprus",
          "Suriname",
          "Honduras",
          "Panama",
          "Guyana",
          "Peru",
          "Armenia",
          "Seychelles",
          "Cameroon",
          "Saint Kitts and Nevis",
          "Mauritania",
          "Japan",
          "Colombia",
          "Thailand",
          "Georgia",
          "Vietnam",
          "Lesotho",
          "Indonesia",
          "China",
          "Venezuela",
          "Nepal",
          "Ecuador",
          "Saint Lucia",
          "Nigeria",
          "Guatemala",
          "Solomon Islands",
          "Paraguay",
          "Gambia",
          "Niger",
          "India",
          "Benin",
          "El Salvador",
          "Gabon",
          "Nicaragua",
          "Bhutan",
          "Bangladesh",
          "Ivory Coast",
          "Antigua and Barbuda",
          "Bolivia",
          "Dominican Republic",
          "Guinea-Bissau",
          "Myanmar",
          "Cambodia",
          "Sri Lanka",
          "Djibouti",
          "Comoros",
          "Togo",
          "Burkina Faso",
          "Malawi",
          "Grenada",
          "Iraq",
          "Senegal",
          "Yemen",
          "Angola",
          "Mongolia",
          "Pakistan",
          "Uganda",
          "South Sudan",
          "Laos",
          "Guinea",
          "Sierra Leone",
          "Mozambique",
          "Botswana",
          "Afghanistan",
          "Madagascar",
          "Zambia",
          "Rwanda",
          "Timor-Leste",
          "Kenya",
          "Ethiopia",
          "Liberia",
          "Namibia",
          "Tanzania",
          "Sudan",
          "Zimbabwe",
          "Congo",
          "Chad",
          "Tajikistan",
          "Somalia",
          "Central African Republic",
          "Democratic Republic of the Congo",
          "North Korea",
          "Haiti",
          "Eritrea",
          "Burundi"
         ],
         "locations": [
          "USA",
          "IRL",
          "MNE",
          "BEL",
          "AUT",
          "ISR",
          "FRA",
          "DZA",
          "KWT",
          "CUB",
          "CAN",
          "LUX",
          "KAZ",
          "ITA",
          "PRT",
          "DEU",
          "CHE",
          "KIR",
          "LBY",
          "GBR",
          "QAT",
          "DNK",
          "NOR",
          "IRN",
          "JOR",
          "SAU",
          "ARG",
          "GRC",
          "AUS",
          "DMA",
          "POL",
          "TUR",
          "TKM",
          "ROU",
          "ISL",
          "NLD",
          "FIN",
          "AZE",
          "WSM",
          "ARE",
          "ESP",
          "OMN",
          "BLR",
          "LTU",
          "BRA",
          "BHR",
          "SWE",
          "MLT",
          "MEX",
          "MAR",
          "UKR",
          "CZE",
          "LVA",
          "SGP",
          "LBN",
          "TUN",
          "GHA",
          "BIH",
          "VUT",
          "RUS",
          "BRB",
          "SVN",
          "EST",
          "NZL",
          "GNQ",
          "FJI",
          "KGZ",
          "UZB",
          "VCT",
          "BLZ",
          "HRV",
          "URY",
          "BRN",
          "STP",
          "SYR",
          "PNG",
          "TON",
          "FSM",
          "PLW",
          "MHL",
          "SVK",
          "ZAF",
          "MYS",
          "CHL",
          "KOR",
          "PHL",
          "CRI",
          "BHS",
          "MUS",
          "HUN",
          "MLI",
          "EGY",
          "SRB",
          "ALB",
          "TTO",
          "BGR",
          "MDV",
          "JAM",
          "CPV",
          "CYP",
          "SUR",
          "HND",
          "PAN",
          "GUY",
          "PER",
          "ARM",
          "SYC",
          "CMR",
          "KNA",
          "MRT",
          "JPN",
          "COL",
          "THA",
          "GEO",
          "VNM",
          "LSO",
          "IDN",
          "CHN",
          "VEN",
          "NPL",
          "ECU",
          "LCA",
          "NGA",
          "GTM",
          "SLB",
          "PRY",
          "GMB",
          "NER",
          "IND",
          "BEN",
          "SLV",
          "GAB",
          "NIC",
          "BTN",
          "BGD",
          "CIV",
          "ATG",
          "BOL",
          "DOM",
          "GNB",
          "MMR",
          "KHM",
          "LKA",
          "DJI",
          "COM",
          "TGO",
          "BFA",
          "MWI",
          "GRD",
          "IRQ",
          "SEN",
          "YEM",
          "AGO",
          "MNG",
          "PAK",
          "UGA",
          "SSD",
          "LAO",
          "GIN",
          "SLE",
          "MOZ",
          "BWA",
          "AFG",
          "MDG",
          "ZMB",
          "RWA",
          "TLS",
          "KEN",
          "ETH",
          "LBR",
          "NAM",
          "TZA",
          "SDN",
          "ZWE",
          "COG",
          "TCD",
          "TJK",
          "SOM",
          "CAF",
          "COD",
          "PRK",
          "HTI",
          "ERI",
          "BDI"
         ],
         "name": "",
         "type": "choropleth",
         "z": [
          78.5,
          82.3,
          76.8,
          81.6,
          81.6,
          82.8,
          82.5,
          76.7,
          75.4,
          78.7,
          81.9,
          82.1,
          73.2,
          82.9,
          81.3,
          80.9,
          83.6,
          68.1,
          72.7,
          81.3,
          80.1,
          81,
          82.8,
          76.5,
          74.4,
          75,
          76.5,
          81.3,
          82.7,
          76.6,
          77.6,
          77.4,
          68.1,
          75.4,
          82.7,
          81.8,
          81.7,
          72.9,
          73.2,
          77.8,
          83.3,
          77.6,
          74.2,
          75.7,
          75.7,
          77.2,
          82.5,
          82.3,
          75,
          76.5,
          71.6,
          79,
          74.7,
          83.1,
          78.9,
          76.5,
          63.8,
          77.3,
          70.3,
          72.7,
          79.1,
          81,
          78.2,
          81.9,
          58.4,
          67.3,
          71.4,
          71.6,
          72.4,
          74.5,
          78.1,
          77.8,
          75.7,
          70.2,
          71.8,
          64.3,
          70.8,
          67.8,
          69.1,
          65.2,
          77.2,
          63.9,
          76,
          80,
          82.6,
          71.1,
          80.1,
          73.8,
          74.4,
          75.8,
          58.9,
          71.8,
          75.5,
          78.5,
          73.4,
          74.9,
          78.6,
          74.4,
          72.8,
          80.8,
          71.6,
          75.1,
          78.3,
          69.8,
          76.5,
          74.9,
          72.8,
          58.9,
          71.3,
          64.7,
          84.2,
          77.1,
          76.9,
          73.6,
          75.3,
          53.7,
          71.5,
          77,
          72.1,
          70.5,
          76.8,
          76.1,
          54.3,
          74.1,
          72.8,
          74.1,
          61.7,
          62,
          69.4,
          61.5,
          73.1,
          66.2,
          74.3,
          71.5,
          72.3,
          57.4,
          76.9,
          71.2,
          73.9,
          58,
          66.9,
          69.6,
          76.8,
          66.6,
          64.1,
          60.8,
          61.2,
          63.8,
          72.4,
          70.5,
          67.7,
          66.1,
          60.8,
          69.7,
          67.1,
          63,
          57.6,
          67.6,
          61.2,
          54.3,
          60.2,
          69.3,
          64.5,
          66.7,
          63.5,
          68.7,
          69.3,
          66.3,
          66.2,
          63.7,
          63.4,
          65,
          65.1,
          61.2,
          64.3,
          54,
          70.9,
          57.1,
          52.8,
          60.4,
          72.1,
          63.7,
          65.9,
          61.2
         ]
        }
       ],
       "layout": {
        "coloraxis": {
         "colorbar": {
          "title": {
           "text": "Life Expectancy"
          }
         },
         "colorscale": [
          [
           0,
           "rgb(214, 249, 207)"
          ],
          [
           0.09090909090909091,
           "rgb(186, 228, 174)"
          ],
          [
           0.18181818181818182,
           "rgb(156, 209, 143)"
          ],
          [
           0.2727272727272727,
           "rgb(124, 191, 115)"
          ],
          [
           0.36363636363636365,
           "rgb(85, 174, 91)"
          ],
          [
           0.45454545454545453,
           "rgb(37, 157, 81)"
          ],
          [
           0.5454545454545454,
           "rgb(7, 138, 78)"
          ],
          [
           0.6363636363636364,
           "rgb(13, 117, 71)"
          ],
          [
           0.7272727272727273,
           "rgb(23, 95, 61)"
          ],
          [
           0.8181818181818182,
           "rgb(25, 75, 49)"
          ],
          [
           0.9090909090909091,
           "rgb(23, 55, 35)"
          ],
          [
           1,
           "rgb(17, 36, 20)"
          ]
         ]
        },
        "geo": {
         "center": {},
         "domain": {
          "x": [
           0,
           1
          ],
          "y": [
           0,
           1
          ]
         },
         "fitbounds": "locations",
         "lakecolor": "Blue",
         "oceancolor": "LightBlue",
         "projection": {
          "type": "orthographic"
         },
         "rivercolor": "Blue",
         "showlakes": true,
         "showocean": true,
         "showrivers": true,
         "visible": true
        },
        "legend": {
         "tracegroupgap": 0
        },
        "margin": {
         "b": 0,
         "l": 0,
         "r": 0,
         "t": 0
        },
        "template": {
         "data": {
          "bar": [
           {
            "error_x": {
             "color": "#2a3f5f"
            },
            "error_y": {
             "color": "#2a3f5f"
            },
            "marker": {
             "line": {
              "color": "#E5ECF6",
              "width": 0.5
             },
             "pattern": {
              "fillmode": "overlay",
              "size": 10,
              "solidity": 0.2
             }
            },
            "type": "bar"
           }
          ],
          "barpolar": [
           {
            "marker": {
             "line": {
              "color": "#E5ECF6",
              "width": 0.5
             },
             "pattern": {
              "fillmode": "overlay",
              "size": 10,
              "solidity": 0.2
             }
            },
            "type": "barpolar"
           }
          ],
          "carpet": [
           {
            "aaxis": {
             "endlinecolor": "#2a3f5f",
             "gridcolor": "white",
             "linecolor": "white",
             "minorgridcolor": "white",
             "startlinecolor": "#2a3f5f"
            },
            "baxis": {
             "endlinecolor": "#2a3f5f",
             "gridcolor": "white",
             "linecolor": "white",
             "minorgridcolor": "white",
             "startlinecolor": "#2a3f5f"
            },
            "type": "carpet"
           }
          ],
          "choropleth": [
           {
            "colorbar": {
             "outlinewidth": 0,
             "ticks": ""
            },
            "type": "choropleth"
           }
          ],
          "contour": [
           {
            "colorbar": {
             "outlinewidth": 0,
             "ticks": ""
            },
            "colorscale": [
             [
              0,
              "#0d0887"
             ],
             [
              0.1111111111111111,
              "#46039f"
             ],
             [
              0.2222222222222222,
              "#7201a8"
             ],
             [
              0.3333333333333333,
              "#9c179e"
             ],
             [
              0.4444444444444444,
              "#bd3786"
             ],
             [
              0.5555555555555556,
              "#d8576b"
             ],
             [
              0.6666666666666666,
              "#ed7953"
             ],
             [
              0.7777777777777778,
              "#fb9f3a"
             ],
             [
              0.8888888888888888,
              "#fdca26"
             ],
             [
              1,
              "#f0f921"
             ]
            ],
            "type": "contour"
           }
          ],
          "contourcarpet": [
           {
            "colorbar": {
             "outlinewidth": 0,
             "ticks": ""
            },
            "type": "contourcarpet"
           }
          ],
          "heatmap": [
           {
            "colorbar": {
             "outlinewidth": 0,
             "ticks": ""
            },
            "colorscale": [
             [
              0,
              "#0d0887"
             ],
             [
              0.1111111111111111,
              "#46039f"
             ],
             [
              0.2222222222222222,
              "#7201a8"
             ],
             [
              0.3333333333333333,
              "#9c179e"
             ],
             [
              0.4444444444444444,
              "#bd3786"
             ],
             [
              0.5555555555555556,
              "#d8576b"
             ],
             [
              0.6666666666666666,
              "#ed7953"
             ],
             [
              0.7777777777777778,
              "#fb9f3a"
             ],
             [
              0.8888888888888888,
              "#fdca26"
             ],
             [
              1,
              "#f0f921"
             ]
            ],
            "type": "heatmap"
           }
          ],
          "heatmapgl": [
           {
            "colorbar": {
             "outlinewidth": 0,
             "ticks": ""
            },
            "colorscale": [
             [
              0,
              "#0d0887"
             ],
             [
              0.1111111111111111,
              "#46039f"
             ],
             [
              0.2222222222222222,
              "#7201a8"
             ],
             [
              0.3333333333333333,
              "#9c179e"
             ],
             [
              0.4444444444444444,
              "#bd3786"
             ],
             [
              0.5555555555555556,
              "#d8576b"
             ],
             [
              0.6666666666666666,
              "#ed7953"
             ],
             [
              0.7777777777777778,
              "#fb9f3a"
             ],
             [
              0.8888888888888888,
              "#fdca26"
             ],
             [
              1,
              "#f0f921"
             ]
            ],
            "type": "heatmapgl"
           }
          ],
          "histogram": [
           {
            "marker": {
             "pattern": {
              "fillmode": "overlay",
              "size": 10,
              "solidity": 0.2
             }
            },
            "type": "histogram"
           }
          ],
          "histogram2d": [
           {
            "colorbar": {
             "outlinewidth": 0,
             "ticks": ""
            },
            "colorscale": [
             [
              0,
              "#0d0887"
             ],
             [
              0.1111111111111111,
              "#46039f"
             ],
             [
              0.2222222222222222,
              "#7201a8"
             ],
             [
              0.3333333333333333,
              "#9c179e"
             ],
             [
              0.4444444444444444,
              "#bd3786"
             ],
             [
              0.5555555555555556,
              "#d8576b"
             ],
             [
              0.6666666666666666,
              "#ed7953"
             ],
             [
              0.7777777777777778,
              "#fb9f3a"
             ],
             [
              0.8888888888888888,
              "#fdca26"
             ],
             [
              1,
              "#f0f921"
             ]
            ],
            "type": "histogram2d"
           }
          ],
          "histogram2dcontour": [
           {
            "colorbar": {
             "outlinewidth": 0,
             "ticks": ""
            },
            "colorscale": [
             [
              0,
              "#0d0887"
             ],
             [
              0.1111111111111111,
              "#46039f"
             ],
             [
              0.2222222222222222,
              "#7201a8"
             ],
             [
              0.3333333333333333,
              "#9c179e"
             ],
             [
              0.4444444444444444,
              "#bd3786"
             ],
             [
              0.5555555555555556,
              "#d8576b"
             ],
             [
              0.6666666666666666,
              "#ed7953"
             ],
             [
              0.7777777777777778,
              "#fb9f3a"
             ],
             [
              0.8888888888888888,
              "#fdca26"
             ],
             [
              1,
              "#f0f921"
             ]
            ],
            "type": "histogram2dcontour"
           }
          ],
          "mesh3d": [
           {
            "colorbar": {
             "outlinewidth": 0,
             "ticks": ""
            },
            "type": "mesh3d"
           }
          ],
          "parcoords": [
           {
            "line": {
             "colorbar": {
              "outlinewidth": 0,
              "ticks": ""
             }
            },
            "type": "parcoords"
           }
          ],
          "pie": [
           {
            "automargin": true,
            "type": "pie"
           }
          ],
          "scatter": [
           {
            "fillpattern": {
             "fillmode": "overlay",
             "size": 10,
             "solidity": 0.2
            },
            "type": "scatter"
           }
          ],
          "scatter3d": [
           {
            "line": {
             "colorbar": {
              "outlinewidth": 0,
              "ticks": ""
             }
            },
            "marker": {
             "colorbar": {
              "outlinewidth": 0,
              "ticks": ""
             }
            },
            "type": "scatter3d"
           }
          ],
          "scattercarpet": [
           {
            "marker": {
             "colorbar": {
              "outlinewidth": 0,
              "ticks": ""
             }
            },
            "type": "scattercarpet"
           }
          ],
          "scattergeo": [
           {
            "marker": {
             "colorbar": {
              "outlinewidth": 0,
              "ticks": ""
             }
            },
            "type": "scattergeo"
           }
          ],
          "scattergl": [
           {
            "marker": {
             "colorbar": {
              "outlinewidth": 0,
              "ticks": ""
             }
            },
            "type": "scattergl"
           }
          ],
          "scattermapbox": [
           {
            "marker": {
             "colorbar": {
              "outlinewidth": 0,
              "ticks": ""
             }
            },
            "type": "scattermapbox"
           }
          ],
          "scatterpolar": [
           {
            "marker": {
             "colorbar": {
              "outlinewidth": 0,
              "ticks": ""
             }
            },
            "type": "scatterpolar"
           }
          ],
          "scatterpolargl": [
           {
            "marker": {
             "colorbar": {
              "outlinewidth": 0,
              "ticks": ""
             }
            },
            "type": "scatterpolargl"
           }
          ],
          "scatterternary": [
           {
            "marker": {
             "colorbar": {
              "outlinewidth": 0,
              "ticks": ""
             }
            },
            "type": "scatterternary"
           }
          ],
          "surface": [
           {
            "colorbar": {
             "outlinewidth": 0,
             "ticks": ""
            },
            "colorscale": [
             [
              0,
              "#0d0887"
             ],
             [
              0.1111111111111111,
              "#46039f"
             ],
             [
              0.2222222222222222,
              "#7201a8"
             ],
             [
              0.3333333333333333,
              "#9c179e"
             ],
             [
              0.4444444444444444,
              "#bd3786"
             ],
             [
              0.5555555555555556,
              "#d8576b"
             ],
             [
              0.6666666666666666,
              "#ed7953"
             ],
             [
              0.7777777777777778,
              "#fb9f3a"
             ],
             [
              0.8888888888888888,
              "#fdca26"
             ],
             [
              1,
              "#f0f921"
             ]
            ],
            "type": "surface"
           }
          ],
          "table": [
           {
            "cells": {
             "fill": {
              "color": "#EBF0F8"
             },
             "line": {
              "color": "white"
             }
            },
            "header": {
             "fill": {
              "color": "#C8D4E3"
             },
             "line": {
              "color": "white"
             }
            },
            "type": "table"
           }
          ]
         },
         "layout": {
          "annotationdefaults": {
           "arrowcolor": "#2a3f5f",
           "arrowhead": 0,
           "arrowwidth": 1
          },
          "autotypenumbers": "strict",
          "coloraxis": {
           "colorbar": {
            "outlinewidth": 0,
            "ticks": ""
           }
          },
          "colorscale": {
           "diverging": [
            [
             0,
             "#8e0152"
            ],
            [
             0.1,
             "#c51b7d"
            ],
            [
             0.2,
             "#de77ae"
            ],
            [
             0.3,
             "#f1b6da"
            ],
            [
             0.4,
             "#fde0ef"
            ],
            [
             0.5,
             "#f7f7f7"
            ],
            [
             0.6,
             "#e6f5d0"
            ],
            [
             0.7,
             "#b8e186"
            ],
            [
             0.8,
             "#7fbc41"
            ],
            [
             0.9,
             "#4d9221"
            ],
            [
             1,
             "#276419"
            ]
           ],
           "sequential": [
            [
             0,
             "#0d0887"
            ],
            [
             0.1111111111111111,
             "#46039f"
            ],
            [
             0.2222222222222222,
             "#7201a8"
            ],
            [
             0.3333333333333333,
             "#9c179e"
            ],
            [
             0.4444444444444444,
             "#bd3786"
            ],
            [
             0.5555555555555556,
             "#d8576b"
            ],
            [
             0.6666666666666666,
             "#ed7953"
            ],
            [
             0.7777777777777778,
             "#fb9f3a"
            ],
            [
             0.8888888888888888,
             "#fdca26"
            ],
            [
             1,
             "#f0f921"
            ]
           ],
           "sequentialminus": [
            [
             0,
             "#0d0887"
            ],
            [
             0.1111111111111111,
             "#46039f"
            ],
            [
             0.2222222222222222,
             "#7201a8"
            ],
            [
             0.3333333333333333,
             "#9c179e"
            ],
            [
             0.4444444444444444,
             "#bd3786"
            ],
            [
             0.5555555555555556,
             "#d8576b"
            ],
            [
             0.6666666666666666,
             "#ed7953"
            ],
            [
             0.7777777777777778,
             "#fb9f3a"
            ],
            [
             0.8888888888888888,
             "#fdca26"
            ],
            [
             1,
             "#f0f921"
            ]
           ]
          },
          "colorway": [
           "#636efa",
           "#EF553B",
           "#00cc96",
           "#ab63fa",
           "#FFA15A",
           "#19d3f3",
           "#FF6692",
           "#B6E880",
           "#FF97FF",
           "#FECB52"
          ],
          "font": {
           "color": "#2a3f5f"
          },
          "geo": {
           "bgcolor": "white",
           "lakecolor": "white",
           "landcolor": "#E5ECF6",
           "showlakes": true,
           "showland": true,
           "subunitcolor": "white"
          },
          "hoverlabel": {
           "align": "left"
          },
          "hovermode": "closest",
          "mapbox": {
           "style": "light"
          },
          "paper_bgcolor": "white",
          "plot_bgcolor": "#E5ECF6",
          "polar": {
           "angularaxis": {
            "gridcolor": "white",
            "linecolor": "white",
            "ticks": ""
           },
           "bgcolor": "#E5ECF6",
           "radialaxis": {
            "gridcolor": "white",
            "linecolor": "white",
            "ticks": ""
           }
          },
          "scene": {
           "xaxis": {
            "backgroundcolor": "#E5ECF6",
            "gridcolor": "white",
            "gridwidth": 2,
            "linecolor": "white",
            "showbackground": true,
            "ticks": "",
            "zerolinecolor": "white"
           },
           "yaxis": {
            "backgroundcolor": "#E5ECF6",
            "gridcolor": "white",
            "gridwidth": 2,
            "linecolor": "white",
            "showbackground": true,
            "ticks": "",
            "zerolinecolor": "white"
           },
           "zaxis": {
            "backgroundcolor": "#E5ECF6",
            "gridcolor": "white",
            "gridwidth": 2,
            "linecolor": "white",
            "showbackground": true,
            "ticks": "",
            "zerolinecolor": "white"
           }
          },
          "shapedefaults": {
           "line": {
            "color": "#2a3f5f"
           }
          },
          "ternary": {
           "aaxis": {
            "gridcolor": "white",
            "linecolor": "white",
            "ticks": ""
           },
           "baxis": {
            "gridcolor": "white",
            "linecolor": "white",
            "ticks": ""
           },
           "bgcolor": "#E5ECF6",
           "caxis": {
            "gridcolor": "white",
            "linecolor": "white",
            "ticks": ""
           }
          },
          "title": {
           "x": 0.05
          },
          "xaxis": {
           "automargin": true,
           "gridcolor": "white",
           "linecolor": "white",
           "ticks": "",
           "title": {
            "standoff": 15
           },
           "zerolinecolor": "white",
           "zerolinewidth": 2
          },
          "yaxis": {
           "automargin": true,
           "gridcolor": "white",
           "linecolor": "white",
           "ticks": "",
           "title": {
            "standoff": 15
           },
           "zerolinecolor": "white",
           "zerolinewidth": 2
          }
         }
        },
        "title": {
         "text": "Countries sorted by Food Security (2015)"
        }
       }
      }
     },
     "metadata": {},
     "output_type": "display_data"
    }
   ],
   "source": [
    "#world map greated by Plotly.express to show data information on the Life expectancy of the country and also access to Health Care and Food security\n",
    "fig = px.choropleth(wd2015, locations=\"ISO3\",\n",
    "                    color=\"Life Expectancy\",\n",
    "                    hover_name=\"COUNTRY\",\n",
    "                    hover_data=['Access to health care','Food Security'],\n",
    "                    projection='orthographic',\n",
    "                    title = \"Countries sorted by Food Security (2015)\",                 color_continuous_scale=px.colors.sequential.algae)\n",
    "\n",
    "fig.update_geos(fitbounds=\"locations\", visible=True,\n",
    "                showocean=True, oceancolor='LightBlue',\n",
    "                showlakes=True, lakecolor=\"Blue\",\n",
    "                showrivers=True, rivercolor=\"Blue\")\n",
    "fig.update_layout(margin={\"r\":0,\"t\":0,\"l\":0,\"b\":0})\n",
    " \n",
    "fig[\"layout\"].pop(\"updatemenus\")\n",
    "fig.write_html(\"wd2015.html\")\n",
    "fig.show()"
   ]
  },
  {
   "cell_type": "code",
   "execution_count": 95,
   "metadata": {},
   "outputs": [
    {
     "data": {
      "application/vnd.plotly.v1+json": {
       "config": {
        "plotlyServerURL": "https://plot.ly"
       },
       "data": [
        {
         "coloraxis": "coloraxis",
         "customdata": [
          [
           10,
           9.8
          ],
          [
           10,
           7.7
          ],
          [
           10,
           9.4
          ],
          [
           7,
           8.6
          ],
          [
           8,
           7.2
          ],
          [
           10,
           7.8
          ],
          [
           8,
           8.6
          ],
          [
           7,
           3.3
          ],
          [
           7,
           7.8
          ],
          [
           6,
           3.6
          ],
          [
           6,
           7.7
          ],
          [
           6,
           4.1
          ],
          [
           8,
           6.1
          ],
          [
           5,
           3.1
          ],
          [
           8,
           2.1
          ],
          [
           6,
           1.7
          ],
          [
           7,
           7.1
          ],
          [
           6,
           4
          ],
          [
           8,
           2.1
          ],
          [
           8,
           9.1
          ],
          [
           9,
           3.4
          ],
          [
           3,
           1
          ],
          [
           6,
           6.8
          ],
          [
           6,
           4.7
          ],
          [
           7,
           7.5
          ],
          [
           7,
           6
          ],
          [
           3,
           1.4
          ],
          [
           7,
           5.4
          ],
          [
           5,
           3.6
          ],
          [
           3,
           2.2
          ],
          [
           5,
           2.5
          ],
          [
           6,
           4.5
          ],
          [
           8,
           9.4
          ],
          [
           5,
           1.6
          ],
          [
           3,
           1.8
          ],
          [
           4,
           1.4
          ],
          [
           4,
           1.4
          ],
          [
           5,
           3.9
          ],
          [
           6,
           3.9
          ],
          [
           8,
           7.9
          ],
          [
           6,
           6.6
          ],
          [
           8,
           2.5
          ],
          [
           5,
           2.4
          ],
          [
           7,
           4.2
          ],
          [
           3,
           0
          ],
          [
           4,
           0.5
          ],
          [
           9,
           8.6
          ],
          [
           2,
           1.8
          ],
          [
           4,
           4.5
          ],
          [
           6,
           4
          ],
          [
           7,
           1.9
          ],
          [
           8,
           5.1
          ],
          [
           9,
           2.7
          ],
          [
           4,
           3.1
          ],
          [
           4,
           1.2
          ],
          [
           6,
           8.3
          ],
          [
           6,
           4.8
          ],
          [
           7,
           8.8
          ],
          [
           7,
           1.2
          ],
          [
           5,
           4.5
          ],
          [
           6,
           2.1
          ],
          [
           6,
           1.6
          ],
          [
           8,
           6.8
          ],
          [
           1,
           9.2
          ],
          [
           5,
           2.5
          ],
          [
           6,
           7
          ],
          [
           4,
           4.8
          ],
          [
           6,
           3
          ],
          [
           6,
           2.4
          ],
          [
           1,
           0.9
          ],
          [
           4,
           2.4
          ],
          [
           5,
           2
          ],
          [
           7,
           4.8
          ],
          [
           4,
           2.9
          ],
          [
           5,
           4.6
          ],
          [
           6,
           6.8
          ],
          [
           6,
           4.2
          ],
          [
           3,
           1.6
          ],
          [
           5,
           2.6
          ],
          [
           6,
           8.8
          ],
          [
           6,
           2.2
          ],
          [
           5,
           4.2
          ],
          [
           7,
           1.9
          ],
          [
           7,
           5
          ],
          [
           8,
           4.8
          ],
          [
           3,
           1
          ],
          [
           5,
           1.6
          ],
          [
           6,
           7.2
          ],
          [
           7,
           5.8
          ],
          [
           4,
           0
          ],
          [
           5,
           5
          ],
          [
           6,
           0.6
          ],
          [
           1,
           1
          ],
          [
           3,
           1.8
          ],
          [
           4,
           1.2
          ],
          [
           4,
           0.7
          ],
          [
           3,
           2.6
          ],
          [
           3,
           1.6
          ],
          [
           3,
           0.8
          ],
          [
           4,
           1.5
          ],
          [
           6,
           0.8
          ],
          [
           7,
           5.1
          ],
          [
           3,
           5
          ],
          [
           4,
           1.8
          ],
          [
           1,
           0
          ],
          [
           5,
           2.9
          ],
          [
           4,
           1
          ],
          [
           4,
           2.7
          ],
          [
           4,
           2.3
          ],
          [
           5,
           4.2
          ],
          [
           5,
           0.3
          ],
          [
           6,
           1.3
          ],
          [
           7,
           4.2
          ],
          [
           4,
           1.8
          ],
          [
           4,
           0.1
          ],
          [
           2,
           2
          ],
          [
           2,
           0.9
          ],
          [
           5,
           5.4
          ],
          [
           1,
           0
          ],
          [
           1,
           1
          ],
          [
           2,
           2.4
          ],
          [
           2,
           2.3
          ],
          [
           3,
           1
          ],
          [
           3,
           0.4
          ],
          [
           4,
           0
          ],
          [
           4,
           2.1
          ],
          [
           0,
           0.8
          ],
          [
           2,
           1.6
          ],
          [
           2,
           2.4
          ],
          [
           3,
           3.2
          ],
          [
           3,
           1.5
          ],
          [
           5,
           2.8
          ],
          [
           5,
           4.4
          ],
          [
           2,
           0.7
          ],
          [
           0,
           0.8
          ],
          [
           2,
           0.6
          ],
          [
           3,
           5.7
          ],
          [
           5,
           5.1
          ],
          [
           0,
           1.1
          ],
          [
           1,
           1.3
          ],
          [
           1,
           0.6
          ],
          [
           3,
           2.7
          ],
          [
           4,
           4.9
          ],
          [
           1,
           2.8
          ],
          [
           2,
           2.4
          ],
          [
           3,
           5.2
          ],
          [
           0,
           0.7
          ],
          [
           3,
           4.7
          ],
          [
           3,
           2.3
          ],
          [
           1,
           0.8
          ],
          [
           1,
           1
          ],
          [
           3,
           4.9
          ],
          [
           3,
           2
          ],
          [
           0,
           1.1
          ],
          [
           1,
           0.4
          ],
          [
           1,
           0.8
          ],
          [
           1,
           1.1
          ],
          [
           2,
           1
          ],
          [
           3,
           6.2
          ],
          [
           5,
           5.3
          ],
          [
           0,
           1.4
          ],
          [
           1,
           1.2
          ],
          [
           1,
           1
          ],
          [
           2,
           1.1
          ],
          [
           3,
           0.4
          ],
          [
           3,
           2.4
          ],
          [
           1,
           0.1
          ],
          [
           1,
           0.6
          ],
          [
           1,
           2.4
          ],
          [
           1,
           1.4
          ],
          [
           1,
           0
          ],
          [
           1,
           1.6
          ],
          [
           1,
           1.4
          ],
          [
           0,
           1.7
          ],
          [
           0,
           0.4
          ],
          [
           0,
           1.2
          ],
          [
           4,
           1.4
          ],
          [
           1,
           1.7
          ],
          [
           0,
           1.3
          ],
          [
           3,
           2.3
          ],
          [
           1,
           1.1
          ],
          [
           0,
           1
          ],
          [
           1,
           1.4
          ],
          [
           2,
           1.9
          ]
         ],
         "geo": "geo",
         "hovertemplate": "<b>%{hovertext}</b><br><br>ISO3=%{location}<br>Access to health care=%{customdata[0]}<br>Food Security=%{customdata[1]}<br>Life Expectancy=%{z}<extra></extra>",
         "hovertext": [
          "Somalia",
          "South Sudan",
          "Central African Republic",
          "Yemen",
          "Afghanistan",
          "Chad",
          "Democratic Republic of the Congo",
          "Niger",
          "Mozambique",
          "Sudan",
          "Uganda",
          "Burkina Faso",
          "Ethiopia",
          "Syria",
          "Mali",
          "Myanmar",
          "Kenya",
          "Iraq",
          "Cameroon",
          "Haiti",
          "Nigeria",
          "Libya",
          "Eritrea",
          "Pakistan",
          "Burundi",
          "Papua New Guinea",
          "Azerbaijan",
          "Tanzania",
          "Bangladesh",
          "Colombia",
          "South Africa",
          "India",
          "Madagascar",
          "Philippines",
          "Ukraine",
          "Iran",
          "Mexico",
          "Guatemala",
          "Honduras",
          "Congo",
          "Venezuela",
          "Mauritania",
          "Peru",
          "Djibouti",
          "Turkey",
          "Egypt",
          "Liberia",
          "Armenia",
          "Ecuador",
          "Malawi",
          "Indonesia",
          "Angola",
          "Guinea",
          "Lebanon",
          "Brazil",
          "Rwanda",
          "Solomon Islands",
          "Zimbabwe",
          "Ivory Coast",
          "Nicaragua",
          "Cambodia",
          "Nepal",
          "Sierra Leone",
          "North Korea",
          "El Salvador",
          "Zambia",
          "Jordan",
          "Vanuatu",
          "Senegal",
          "Russia",
          "Tajikistan",
          "Dominican Republic",
          "Togo",
          "Thailand",
          "Namibia",
          "Timor-Leste",
          "Bolivia",
          "Panama",
          "Belize",
          "Lesotho",
          "Laos",
          "Tonga",
          "Benin",
          "Marshall Islands",
          "Guinea-Bissau",
          "China",
          "Guyana",
          "Comoros",
          "Gambia",
          "Algeria",
          "Federated States of Micronesia",
          "Ghana",
          "Saudi Arabia",
          "Costa Rica",
          "Bosnia and Herzegovina",
          "Morocco",
          "Georgia",
          "Chile",
          "Uzbekistan",
          "Vietnam",
          "Kiribati",
          "Equatorial Guinea",
          "Palau",
          "Sri Lanka",
          "United States",
          "Suriname",
          "Albania",
          "Jamaica",
          "Kyrgyzstan",
          "Bhutan",
          "Dominica",
          "Samoa",
          "Gabon",
          "Malaysia",
          "Tunisia",
          "Cyprus",
          "Argentina",
          "Botswana",
          "Israel",
          "Greece",
          "Serbia",
          "Bulgaria",
          "Montenegro",
          "Romania",
          "Turkmenistan",
          "Fiji",
          "Italy",
          "Croatia",
          "Trinidad and Tobago",
          "Oman",
          "Mongolia",
          "Paraguay",
          "São Tomé and Príncipe",
          "Poland",
          "Australia",
          "Canada",
          "Maldives",
          "Cape Verde",
          "Spain",
          "Cuba",
          "France",
          "Saint Vincent and the Grenadines",
          "Saint Lucia",
          "Japan",
          "Slovakia",
          "Antigua and Barbuda",
          "Germany",
          "Bahamas",
          "Mauritius",
          "Portugal",
          "Hungary",
          "Saint Kitts and Nevis",
          "Barbados",
          "Malta",
          "Austria",
          "South Korea",
          "United Kingdom",
          "Latvia",
          "Seychelles",
          "Grenada",
          "Czech Republic",
          "Uruguay",
          "Kuwait",
          "Belarus",
          "Kazakhstan",
          "Brunei",
          "Belgium",
          "Lithuania",
          "United Arab Emirates",
          "New Zealand",
          "Ireland",
          "Slovenia",
          "Netherlands",
          "Sweden",
          "Iceland",
          "Switzerland",
          "Qatar",
          "Estonia",
          "Denmark",
          "Bahrain",
          "Luxembourg",
          "Norway",
          "Finland",
          "Singapore"
         ],
         "locations": [
          "SOM",
          "SSD",
          "CAF",
          "YEM",
          "AFG",
          "TCD",
          "COD",
          "NER",
          "MOZ",
          "SDN",
          "UGA",
          "BFA",
          "ETH",
          "SYR",
          "MLI",
          "MMR",
          "KEN",
          "IRQ",
          "CMR",
          "HTI",
          "NGA",
          "LBY",
          "ERI",
          "PAK",
          "BDI",
          "PNG",
          "AZE",
          "TZA",
          "BGD",
          "COL",
          "ZAF",
          "IND",
          "MDG",
          "PHL",
          "UKR",
          "IRN",
          "ME0",
          "GTM",
          "HND",
          "COG",
          "VEN",
          "MRT",
          "PER",
          "DJI",
          "TUR",
          "EGY",
          "LBR",
          "ARM",
          "ECU",
          "MWI",
          "IDN",
          "AGO",
          "GIN",
          "LBN",
          "BRA",
          "RWA",
          "SLB",
          "ZWE",
          "CIV",
          "NIC",
          "KHM",
          "NPL",
          "SLE",
          "PRK",
          "SLV",
          "ZMB",
          "JOR",
          "VUT",
          "SEN",
          "RUS",
          "TJK",
          "DOM",
          "TGO",
          "THA",
          "NAM",
          "TLS",
          "BOL",
          "PAN",
          "BLZ",
          "LSO",
          "LAO",
          "TON",
          "BEN",
          "MHL",
          "GNB",
          "CHN",
          "GUY",
          "COM",
          "GMB",
          "DZA",
          "FSM",
          "GHA",
          "SAU",
          "CRI",
          "BIH",
          "MAR",
          "GEO",
          "CHL",
          "UZB",
          "VNM",
          "KIR",
          "GNQ",
          "PLW",
          "LKA",
          "USA",
          "SUR",
          "ALB",
          "JAM",
          "KGZ",
          "BTN",
          "DMA",
          "WSM",
          "GAB",
          "MYS",
          "TUN",
          "CYP",
          "ARG",
          "BWA",
          "ISR",
          "GRC",
          "SRB",
          "BGR",
          "MNE",
          "ROU",
          "TKM",
          "FJI",
          "ITA",
          "HRV",
          "TTO",
          "OMN",
          "MNG",
          "PRY",
          "STP",
          "POL",
          "AUS",
          "CAN",
          "MDV",
          "CPV",
          "ESP",
          "CUB",
          "FRA",
          "VCT",
          "LCA",
          "JPN",
          "SVK",
          "ATG",
          "DEU",
          "BHS",
          "MUS",
          "PRT",
          "HUN",
          "KNA",
          "BRB",
          "MLT",
          "AUT",
          "KOR",
          "GBR",
          "LVA",
          "SYC",
          "GRD",
          "CZE",
          "URY",
          "KWT",
          "BLR",
          "KAZ",
          "BRN",
          "BEL",
          "LTU",
          "ARE",
          "NZL",
          "IRL",
          "SVN",
          "NLD",
          "SWE",
          "ISL",
          "CHE",
          "QAT",
          "EST",
          "DNK",
          "BHR",
          "LU0",
          "NOR",
          "FIN",
          "SGP"
         ],
         "name": "",
         "type": "choropleth",
         "z": [
          57,
          58,
          53,
          66,
          65,
          54,
          60,
          62,
          60,
          65,
          63,
          61,
          66,
          72,
          59,
          67,
          66,
          71,
          59,
          64,
          54,
          73,
          66,
          67,
          61,
          64,
          73,
          65,
          72,
          77,
          64,
          69,
          67,
          71,
          72,
          77,
          75,
          74,
          75,
          64,
          72,
          65,
          77,
          67,
          77,
          72,
          64,
          75,
          77,
          64,
          72,
          61,
          61,
          79,
          76,
          69,
          73,
          61,
          57,
          74,
          70,
          71,
          54,
          72,
          73,
          64,
          74,
          70,
          68,
          73,
          71,
          74,
          61,
          77,
          63,
          69,
          71,
          78,
          75,
          54,
          68,
          71,
          62,
          65,
          58,
          77,
          70,
          64,
          62,
          77,
          68,
          64,
          75,
          80,
          77,
          77,
          74,
          80,
          72,
          75,
          68,
          58,
          69,
          77,
          79,
          72,
          79,
          74,
          71,
          72,
          77,
          73,
          66,
          76,
          77,
          81,
          77,
          69,
          83,
          81,
          76,
          75,
          77,
          75,
          68,
          67,
          83,
          78,
          73,
          78,
          70,
          74,
          70,
          78,
          83,
          82,
          79,
          73,
          83,
          79,
          83,
          72,
          76,
          84,
          77,
          77,
          81,
          74,
          74,
          81,
          76,
          71,
          79,
          82,
          82,
          83,
          81,
          75,
          73,
          72,
          79,
          78,
          75,
          74,
          73,
          76,
          82,
          76,
          78,
          82,
          82,
          81,
          82,
          83,
          83,
          84,
          80,
          78,
          81,
          77,
          82,
          83,
          82,
          83
         ]
        }
       ],
       "layout": {
        "coloraxis": {
         "colorbar": {
          "title": {
           "text": "Life Expectancy"
          }
         },
         "colorscale": [
          [
           0,
           "rgb(214, 249, 207)"
          ],
          [
           0.09090909090909091,
           "rgb(186, 228, 174)"
          ],
          [
           0.18181818181818182,
           "rgb(156, 209, 143)"
          ],
          [
           0.2727272727272727,
           "rgb(124, 191, 115)"
          ],
          [
           0.36363636363636365,
           "rgb(85, 174, 91)"
          ],
          [
           0.45454545454545453,
           "rgb(37, 157, 81)"
          ],
          [
           0.5454545454545454,
           "rgb(7, 138, 78)"
          ],
          [
           0.6363636363636364,
           "rgb(13, 117, 71)"
          ],
          [
           0.7272727272727273,
           "rgb(23, 95, 61)"
          ],
          [
           0.8181818181818182,
           "rgb(25, 75, 49)"
          ],
          [
           0.9090909090909091,
           "rgb(23, 55, 35)"
          ],
          [
           1,
           "rgb(17, 36, 20)"
          ]
         ]
        },
        "geo": {
         "center": {},
         "domain": {
          "x": [
           0,
           1
          ],
          "y": [
           0,
           1
          ]
         },
         "fitbounds": "locations",
         "lakecolor": "Blue",
         "oceancolor": "LightBlue",
         "projection": {
          "type": "orthographic"
         },
         "rivercolor": "Blue",
         "showlakes": true,
         "showocean": true,
         "showrivers": true,
         "visible": true
        },
        "legend": {
         "tracegroupgap": 0
        },
        "margin": {
         "b": 0,
         "l": 0,
         "r": 0,
         "t": 0
        },
        "template": {
         "data": {
          "bar": [
           {
            "error_x": {
             "color": "#2a3f5f"
            },
            "error_y": {
             "color": "#2a3f5f"
            },
            "marker": {
             "line": {
              "color": "#E5ECF6",
              "width": 0.5
             },
             "pattern": {
              "fillmode": "overlay",
              "size": 10,
              "solidity": 0.2
             }
            },
            "type": "bar"
           }
          ],
          "barpolar": [
           {
            "marker": {
             "line": {
              "color": "#E5ECF6",
              "width": 0.5
             },
             "pattern": {
              "fillmode": "overlay",
              "size": 10,
              "solidity": 0.2
             }
            },
            "type": "barpolar"
           }
          ],
          "carpet": [
           {
            "aaxis": {
             "endlinecolor": "#2a3f5f",
             "gridcolor": "white",
             "linecolor": "white",
             "minorgridcolor": "white",
             "startlinecolor": "#2a3f5f"
            },
            "baxis": {
             "endlinecolor": "#2a3f5f",
             "gridcolor": "white",
             "linecolor": "white",
             "minorgridcolor": "white",
             "startlinecolor": "#2a3f5f"
            },
            "type": "carpet"
           }
          ],
          "choropleth": [
           {
            "colorbar": {
             "outlinewidth": 0,
             "ticks": ""
            },
            "type": "choropleth"
           }
          ],
          "contour": [
           {
            "colorbar": {
             "outlinewidth": 0,
             "ticks": ""
            },
            "colorscale": [
             [
              0,
              "#0d0887"
             ],
             [
              0.1111111111111111,
              "#46039f"
             ],
             [
              0.2222222222222222,
              "#7201a8"
             ],
             [
              0.3333333333333333,
              "#9c179e"
             ],
             [
              0.4444444444444444,
              "#bd3786"
             ],
             [
              0.5555555555555556,
              "#d8576b"
             ],
             [
              0.6666666666666666,
              "#ed7953"
             ],
             [
              0.7777777777777778,
              "#fb9f3a"
             ],
             [
              0.8888888888888888,
              "#fdca26"
             ],
             [
              1,
              "#f0f921"
             ]
            ],
            "type": "contour"
           }
          ],
          "contourcarpet": [
           {
            "colorbar": {
             "outlinewidth": 0,
             "ticks": ""
            },
            "type": "contourcarpet"
           }
          ],
          "heatmap": [
           {
            "colorbar": {
             "outlinewidth": 0,
             "ticks": ""
            },
            "colorscale": [
             [
              0,
              "#0d0887"
             ],
             [
              0.1111111111111111,
              "#46039f"
             ],
             [
              0.2222222222222222,
              "#7201a8"
             ],
             [
              0.3333333333333333,
              "#9c179e"
             ],
             [
              0.4444444444444444,
              "#bd3786"
             ],
             [
              0.5555555555555556,
              "#d8576b"
             ],
             [
              0.6666666666666666,
              "#ed7953"
             ],
             [
              0.7777777777777778,
              "#fb9f3a"
             ],
             [
              0.8888888888888888,
              "#fdca26"
             ],
             [
              1,
              "#f0f921"
             ]
            ],
            "type": "heatmap"
           }
          ],
          "heatmapgl": [
           {
            "colorbar": {
             "outlinewidth": 0,
             "ticks": ""
            },
            "colorscale": [
             [
              0,
              "#0d0887"
             ],
             [
              0.1111111111111111,
              "#46039f"
             ],
             [
              0.2222222222222222,
              "#7201a8"
             ],
             [
              0.3333333333333333,
              "#9c179e"
             ],
             [
              0.4444444444444444,
              "#bd3786"
             ],
             [
              0.5555555555555556,
              "#d8576b"
             ],
             [
              0.6666666666666666,
              "#ed7953"
             ],
             [
              0.7777777777777778,
              "#fb9f3a"
             ],
             [
              0.8888888888888888,
              "#fdca26"
             ],
             [
              1,
              "#f0f921"
             ]
            ],
            "type": "heatmapgl"
           }
          ],
          "histogram": [
           {
            "marker": {
             "pattern": {
              "fillmode": "overlay",
              "size": 10,
              "solidity": 0.2
             }
            },
            "type": "histogram"
           }
          ],
          "histogram2d": [
           {
            "colorbar": {
             "outlinewidth": 0,
             "ticks": ""
            },
            "colorscale": [
             [
              0,
              "#0d0887"
             ],
             [
              0.1111111111111111,
              "#46039f"
             ],
             [
              0.2222222222222222,
              "#7201a8"
             ],
             [
              0.3333333333333333,
              "#9c179e"
             ],
             [
              0.4444444444444444,
              "#bd3786"
             ],
             [
              0.5555555555555556,
              "#d8576b"
             ],
             [
              0.6666666666666666,
              "#ed7953"
             ],
             [
              0.7777777777777778,
              "#fb9f3a"
             ],
             [
              0.8888888888888888,
              "#fdca26"
             ],
             [
              1,
              "#f0f921"
             ]
            ],
            "type": "histogram2d"
           }
          ],
          "histogram2dcontour": [
           {
            "colorbar": {
             "outlinewidth": 0,
             "ticks": ""
            },
            "colorscale": [
             [
              0,
              "#0d0887"
             ],
             [
              0.1111111111111111,
              "#46039f"
             ],
             [
              0.2222222222222222,
              "#7201a8"
             ],
             [
              0.3333333333333333,
              "#9c179e"
             ],
             [
              0.4444444444444444,
              "#bd3786"
             ],
             [
              0.5555555555555556,
              "#d8576b"
             ],
             [
              0.6666666666666666,
              "#ed7953"
             ],
             [
              0.7777777777777778,
              "#fb9f3a"
             ],
             [
              0.8888888888888888,
              "#fdca26"
             ],
             [
              1,
              "#f0f921"
             ]
            ],
            "type": "histogram2dcontour"
           }
          ],
          "mesh3d": [
           {
            "colorbar": {
             "outlinewidth": 0,
             "ticks": ""
            },
            "type": "mesh3d"
           }
          ],
          "parcoords": [
           {
            "line": {
             "colorbar": {
              "outlinewidth": 0,
              "ticks": ""
             }
            },
            "type": "parcoords"
           }
          ],
          "pie": [
           {
            "automargin": true,
            "type": "pie"
           }
          ],
          "scatter": [
           {
            "fillpattern": {
             "fillmode": "overlay",
             "size": 10,
             "solidity": 0.2
            },
            "type": "scatter"
           }
          ],
          "scatter3d": [
           {
            "line": {
             "colorbar": {
              "outlinewidth": 0,
              "ticks": ""
             }
            },
            "marker": {
             "colorbar": {
              "outlinewidth": 0,
              "ticks": ""
             }
            },
            "type": "scatter3d"
           }
          ],
          "scattercarpet": [
           {
            "marker": {
             "colorbar": {
              "outlinewidth": 0,
              "ticks": ""
             }
            },
            "type": "scattercarpet"
           }
          ],
          "scattergeo": [
           {
            "marker": {
             "colorbar": {
              "outlinewidth": 0,
              "ticks": ""
             }
            },
            "type": "scattergeo"
           }
          ],
          "scattergl": [
           {
            "marker": {
             "colorbar": {
              "outlinewidth": 0,
              "ticks": ""
             }
            },
            "type": "scattergl"
           }
          ],
          "scattermapbox": [
           {
            "marker": {
             "colorbar": {
              "outlinewidth": 0,
              "ticks": ""
             }
            },
            "type": "scattermapbox"
           }
          ],
          "scatterpolar": [
           {
            "marker": {
             "colorbar": {
              "outlinewidth": 0,
              "ticks": ""
             }
            },
            "type": "scatterpolar"
           }
          ],
          "scatterpolargl": [
           {
            "marker": {
             "colorbar": {
              "outlinewidth": 0,
              "ticks": ""
             }
            },
            "type": "scatterpolargl"
           }
          ],
          "scatterternary": [
           {
            "marker": {
             "colorbar": {
              "outlinewidth": 0,
              "ticks": ""
             }
            },
            "type": "scatterternary"
           }
          ],
          "surface": [
           {
            "colorbar": {
             "outlinewidth": 0,
             "ticks": ""
            },
            "colorscale": [
             [
              0,
              "#0d0887"
             ],
             [
              0.1111111111111111,
              "#46039f"
             ],
             [
              0.2222222222222222,
              "#7201a8"
             ],
             [
              0.3333333333333333,
              "#9c179e"
             ],
             [
              0.4444444444444444,
              "#bd3786"
             ],
             [
              0.5555555555555556,
              "#d8576b"
             ],
             [
              0.6666666666666666,
              "#ed7953"
             ],
             [
              0.7777777777777778,
              "#fb9f3a"
             ],
             [
              0.8888888888888888,
              "#fdca26"
             ],
             [
              1,
              "#f0f921"
             ]
            ],
            "type": "surface"
           }
          ],
          "table": [
           {
            "cells": {
             "fill": {
              "color": "#EBF0F8"
             },
             "line": {
              "color": "white"
             }
            },
            "header": {
             "fill": {
              "color": "#C8D4E3"
             },
             "line": {
              "color": "white"
             }
            },
            "type": "table"
           }
          ]
         },
         "layout": {
          "annotationdefaults": {
           "arrowcolor": "#2a3f5f",
           "arrowhead": 0,
           "arrowwidth": 1
          },
          "autotypenumbers": "strict",
          "coloraxis": {
           "colorbar": {
            "outlinewidth": 0,
            "ticks": ""
           }
          },
          "colorscale": {
           "diverging": [
            [
             0,
             "#8e0152"
            ],
            [
             0.1,
             "#c51b7d"
            ],
            [
             0.2,
             "#de77ae"
            ],
            [
             0.3,
             "#f1b6da"
            ],
            [
             0.4,
             "#fde0ef"
            ],
            [
             0.5,
             "#f7f7f7"
            ],
            [
             0.6,
             "#e6f5d0"
            ],
            [
             0.7,
             "#b8e186"
            ],
            [
             0.8,
             "#7fbc41"
            ],
            [
             0.9,
             "#4d9221"
            ],
            [
             1,
             "#276419"
            ]
           ],
           "sequential": [
            [
             0,
             "#0d0887"
            ],
            [
             0.1111111111111111,
             "#46039f"
            ],
            [
             0.2222222222222222,
             "#7201a8"
            ],
            [
             0.3333333333333333,
             "#9c179e"
            ],
            [
             0.4444444444444444,
             "#bd3786"
            ],
            [
             0.5555555555555556,
             "#d8576b"
            ],
            [
             0.6666666666666666,
             "#ed7953"
            ],
            [
             0.7777777777777778,
             "#fb9f3a"
            ],
            [
             0.8888888888888888,
             "#fdca26"
            ],
            [
             1,
             "#f0f921"
            ]
           ],
           "sequentialminus": [
            [
             0,
             "#0d0887"
            ],
            [
             0.1111111111111111,
             "#46039f"
            ],
            [
             0.2222222222222222,
             "#7201a8"
            ],
            [
             0.3333333333333333,
             "#9c179e"
            ],
            [
             0.4444444444444444,
             "#bd3786"
            ],
            [
             0.5555555555555556,
             "#d8576b"
            ],
            [
             0.6666666666666666,
             "#ed7953"
            ],
            [
             0.7777777777777778,
             "#fb9f3a"
            ],
            [
             0.8888888888888888,
             "#fdca26"
            ],
            [
             1,
             "#f0f921"
            ]
           ]
          },
          "colorway": [
           "#636efa",
           "#EF553B",
           "#00cc96",
           "#ab63fa",
           "#FFA15A",
           "#19d3f3",
           "#FF6692",
           "#B6E880",
           "#FF97FF",
           "#FECB52"
          ],
          "font": {
           "color": "#2a3f5f"
          },
          "geo": {
           "bgcolor": "white",
           "lakecolor": "white",
           "landcolor": "#E5ECF6",
           "showlakes": true,
           "showland": true,
           "subunitcolor": "white"
          },
          "hoverlabel": {
           "align": "left"
          },
          "hovermode": "closest",
          "mapbox": {
           "style": "light"
          },
          "paper_bgcolor": "white",
          "plot_bgcolor": "#E5ECF6",
          "polar": {
           "angularaxis": {
            "gridcolor": "white",
            "linecolor": "white",
            "ticks": ""
           },
           "bgcolor": "#E5ECF6",
           "radialaxis": {
            "gridcolor": "white",
            "linecolor": "white",
            "ticks": ""
           }
          },
          "scene": {
           "xaxis": {
            "backgroundcolor": "#E5ECF6",
            "gridcolor": "white",
            "gridwidth": 2,
            "linecolor": "white",
            "showbackground": true,
            "ticks": "",
            "zerolinecolor": "white"
           },
           "yaxis": {
            "backgroundcolor": "#E5ECF6",
            "gridcolor": "white",
            "gridwidth": 2,
            "linecolor": "white",
            "showbackground": true,
            "ticks": "",
            "zerolinecolor": "white"
           },
           "zaxis": {
            "backgroundcolor": "#E5ECF6",
            "gridcolor": "white",
            "gridwidth": 2,
            "linecolor": "white",
            "showbackground": true,
            "ticks": "",
            "zerolinecolor": "white"
           }
          },
          "shapedefaults": {
           "line": {
            "color": "#2a3f5f"
           }
          },
          "ternary": {
           "aaxis": {
            "gridcolor": "white",
            "linecolor": "white",
            "ticks": ""
           },
           "baxis": {
            "gridcolor": "white",
            "linecolor": "white",
            "ticks": ""
           },
           "bgcolor": "#E5ECF6",
           "caxis": {
            "gridcolor": "white",
            "linecolor": "white",
            "ticks": ""
           }
          },
          "title": {
           "x": 0.05
          },
          "xaxis": {
           "automargin": true,
           "gridcolor": "white",
           "linecolor": "white",
           "ticks": "",
           "title": {
            "standoff": 15
           },
           "zerolinecolor": "white",
           "zerolinewidth": 2
          },
          "yaxis": {
           "automargin": true,
           "gridcolor": "white",
           "linecolor": "white",
           "ticks": "",
           "title": {
            "standoff": 15
           },
           "zerolinecolor": "white",
           "zerolinewidth": 2
          }
         }
        },
        "title": {
         "text": "Countries sorted by Food Security (2023)"
        }
       }
      }
     },
     "metadata": {},
     "output_type": "display_data"
    }
   ],
   "source": [
    "#world map greated by Plotly.express to show data information on the Life expectancy of the country and also access to Health Care and Food security\n",
    "#https://plotly.com/python/map-configuration/\n",
    "fig = px.choropleth(wd2023, locations=\"ISO3\",\n",
    "                    color=\"Life Expectancy\",\n",
    "                    hover_name=\"COUNTRY\",\n",
    "                    hover_data=['Access to health care','Food Security',],\n",
    "                    projection='orthographic',\n",
    "                    \n",
    "                \n",
    "                    \n",
    "                    title = \"Countries sorted by Food Security (2023)\",                 color_continuous_scale=px.colors.sequential.algae)\n",
    "\n",
    "fig.update_geos(fitbounds=\"locations\", visible=True,\n",
    "                showocean=True, oceancolor='LightBlue',\n",
    "                showlakes=True, lakecolor=\"Blue\",\n",
    "                showrivers=True, rivercolor=\"Blue\")\n",
    "fig.update_layout(margin={\"r\":0,\"t\":0,\"l\":0,\"b\":0})\n",
    "fig[\"layout\"].pop(\"updatemenus\")\n",
    "fig.write_html(\"wd2023.html\")\n",
    "fig.show()"
   ]
  },
  {
   "cell_type": "code",
   "execution_count": 79,
   "metadata": {},
   "outputs": [
    {
     "data": {
      "image/png": "[encoded data removed]",
      "text/plain": [
       "<Figure size 640x480 with 1 Axes>"
      ]
     },
     "metadata": {},
     "output_type": "display_data"
    },
    {
     "name": "stdout",
     "output_type": "stream",
     "text": [
      "-0.6808994669269667\n"
     ]
    }
   ],
   "source": [
    "\n",
    "x = wd2015['Life Expectancy']\n",
    "y = wd2015['Food Security']\n",
    "mymodel = np.poly1d(np.polyfit(x, y, 3))\n",
    "\n",
    "myline = np.linspace(1, 9, 10)\n",
    "\n",
    "\n",
    "slope, intercept, r, p, std_err = stats.linregress(x, y)\n",
    "\n",
    "def myfunc(x):\n",
    "  return slope * x + intercept\n",
    "\n",
    "mymodel = list(map(myfunc, x))\n",
    "\n",
    "plt.scatter(x, y)#scatter plot to show relationship between life expectancy and food security in 2015\n",
    "plt.plot(x, mymodel)\n",
    "plt.title('2015')\n",
    "plt.xlabel('Life Expectancy')\n",
    "plt.ylabel('Food Security')\n",
    "plt.show()\n",
    "slope, intercept, r, p, std_err = stats.linregress(x, y)\n",
    "\n",
    "print(r)\n",
    "\n"
   ]
  },
  {
   "cell_type": "code",
   "execution_count": 80,
   "metadata": {},
   "outputs": [
    {
     "data": {
      "image/png": "[encoded data removed]",
      "text/plain": [
       "<Figure size 640x480 with 1 Axes>"
      ]
     },
     "metadata": {},
     "output_type": "display_data"
    },
    {
     "name": "stdout",
     "output_type": "stream",
     "text": [
      "-0.6592962884447167\n"
     ]
    }
   ],
   "source": [
    "\n",
    "x = wd2023['Life Expectancy']\n",
    "y = wd2023['Food Security']\n",
    "mymodel1= np.poly1d(np.polyfit(x, y, 3))\n",
    "\n",
    "myline = np.linspace(1, 9, 10)\n",
    "\n",
    "slope, intercept, r, p, std_err = stats.linregress(x, y)\n",
    "\n",
    "def myfunc(x):\n",
    "  return slope * x + intercept\n",
    "\n",
    "mymodel = list(map(myfunc, x))\n",
    "\n",
    "plt.scatter(x, y) #scatter plot to show relationship between life expectancy and food security in 2023\n",
    "plt.plot(x, mymodel)\n",
    "plt.title('2023')\n",
    "plt.xlabel('Life Expectancy')\n",
    "plt.ylabel('Food Security')\n",
    "plt.show()\n",
    "slope, intercept, r, p, std_err = stats.linregress(x, y)\n",
    "\n",
    "print(r) #linear regression line showing a negative correlation between food security and life expectancy \n"
   ]
  },
  {
   "cell_type": "code",
   "execution_count": 81,
   "metadata": {},
   "outputs": [
    {
     "name": "stdout",
     "output_type": "stream",
     "text": [
      "data used from Czechia in 2015\n",
      "[[79.98418335]]\n",
      "actual Life Expectancy for 2015 in Czechia is: 79\n"
     ]
    }
   ],
   "source": [
    "\n",
    "X = wd2015[['Access to health care','Food Security']]\n",
    "y = wd2015[['Life Expectancy']]\n",
    "\n",
    "regr = linear_model.LinearRegression()\n",
    "\n",
    "regr.fit(X,y)\n",
    "predictedAid = regr.predict([[2,1.6]])# multiple regression to predict life expectancy of people in Czechia based off of Access to health care and Food security in 2015\n",
    "print(\"data used from Czechia in 2015\")\n",
    "print(predictedAid)\n",
    "print(\"actual Life Expectancy for 2015 in Czechia is: 79\" ) # a closer correlation of life expectancy and a regression prediction from food security and access to health care in 2015 than 2023\n"
   ]
  },
  {
   "cell_type": "code",
   "execution_count": 82,
   "metadata": {},
   "outputs": [
    {
     "name": "stdout",
     "output_type": "stream",
     "text": [
      "data used from Czechia in 2023\n",
      "[82.62435561]\n",
      "actual Life Expectancy for 2023 in Czechia is: 79\n"
     ]
    }
   ],
   "source": [
    "\n",
    "X = wd2023[['Access to health care','Food Security']]\n",
    "y = wd2023['Life Expectancy']\n",
    "\n",
    "regr = linear_model.LinearRegression()\n",
    "\n",
    "regr.fit(X,y)\n",
    "predictedAid = regr.predict([[0,1.4]]) # multiple regression to predict life expectancy of people in Czechia based off of Access to health care and Food security in 2023\n",
    "print(\"data used from Czechia in 2023\")\n",
    "\n",
    "print(predictedAid)\n",
    "print(\"actual Life Expectancy for 2023 in Czechia is: 79\" ) #not exactly accurate indicationg other factors do have an impact on life expectancy "
   ]
  },
  {
   "cell_type": "code",
   "execution_count": 83,
   "metadata": {},
   "outputs": [
    {
     "data": {
      "image/png": "[encoded data removed]",
      "text/plain": [
       "<Figure size 750x750 with 12 Axes>"
      ]
     },
     "metadata": {},
     "output_type": "display_data"
    }
   ],
   "source": [
    "#https://datagy.io/seaborn-pairplot/ accessed 29/11/2022 \n",
    "sns.pairplot(wd2015[['Access to health care', 'Life Expectancy', 'Food Security']]) # pair plot plotting the relationships between Life expectancy, Food security and Access to Health care\n",
    "plt.show()\n",
    "# cannot plot regression lines as bar charts are present"
   ]
  },
  {
   "cell_type": "code",
   "execution_count": 84,
   "metadata": {},
   "outputs": [
    {
     "data": {
      "image/png": "[encoded data removed]",
      "text/plain": [
       "<Figure size 750x750 with 12 Axes>"
      ]
     },
     "metadata": {},
     "output_type": "display_data"
    }
   ],
   "source": [
    "sns.pairplot(wd2023[['Access to health care', 'Life Expectancy', 'Food Security']])\n",
    "\n",
    "\n",
    "plt.show()"
   ]
  },
  {
   "cell_type": "code",
   "execution_count": 93,
   "metadata": {},
   "outputs": [
    {
     "data": {
      "image/png": "[encoded data removed]",
      "text/plain": [
       "<Figure size 640x480 with 1 Axes>"
      ]
     },
     "metadata": {},
     "output_type": "display_data"
    }
   ],
   "source": [
    "#plotting a scatter graph with a polynomial regression line to show relation ship between Human factors and Life expectancy \n",
    "#                                     ^ polynomial line used as a linear regression line is not suitable in this context \n",
    "x = wd2023['Life Expectancy']\n",
    "y = wd2023['Human']\n",
    "mymodel1= np.poly1d(np.polyfit(x, y, 3))\n",
    "\n",
    "myline1 = np.linspace(53, 84, 10)\n",
    "\n",
    "\n",
    "\n",
    "\n",
    "plt.scatter(x, y)\n",
    "plt.plot(myline1, mymodel1(myline1))\n",
    "plt.title('2023')\n",
    "plt.xlabel('Life Expectancy')\n",
    "plt.ylabel('Human')\n",
    "plt.show()\n",
    "\n"
   ]
  }
 ],
 "metadata": {
  "interpreter": {
   "hash": "b89b5cfaba6639976dc87ff2fec6d58faec662063367e2c229c520fe71072417"
  },
  "kernelspec": {
   "display_name": "Python 3.10.4 64-bit",
   "language": "python",
   "name": "python3"
  },
  "language_info": {
   "codemirror_mode": {
    "name": "ipython",
    "version": 3
   },
   "file_extension": ".py",
   "mimetype": "text/x-python",
   "name": "python",
   "nbconvert_exporter": "python",
   "pygments_lexer": "ipython3",
   "version": "3.10.4"
  },
  "orig_nbformat": 4
 },
 "nbformat": 4,
 "nbformat_minor": 2
}
